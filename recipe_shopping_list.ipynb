{
 "cells": [
  {
   "cell_type": "code",
   "execution_count": 4,
   "metadata": {},
   "outputs": [
    {
     "name": "stdout",
     "output_type": "stream",
     "text": [
      "/Users/mgibbs/Desktop/Python/recipe_shopping_list\n"
     ]
    }
   ],
   "source": [
    "#check working directory\n",
    "import os\n",
    "print(os.getcwd())"
   ]
  },
  {
   "cell_type": "code",
   "execution_count": 5,
   "metadata": {
    "collapsed": true
   },
   "outputs": [],
   "source": [
    "#import csv\n",
    "import csv\n",
    "open_recipes = open('recipes.csv')\n",
    "recipes = csv.reader(open_recipes)"
   ]
  },
  {
   "cell_type": "code",
   "execution_count": 6,
   "metadata": {},
   "outputs": [
    {
     "name": "stdout",
     "output_type": "stream",
     "text": [
      "[['Italian Sauce', 'Garlic', 'Onion', 'Sweet Italian Sausage', 'Spicy Italian Sausage', 'Tomato Sauce', 'Tomato Paste', 'Diced Tomato', 'Basil ', 'Wine', '', '', '', '', '', '', '', '', '', '', '', ''], ['Mongolian Beef Ramen', 'Flank Steak', 'Cornstarch', 'Sesame Oil', 'Vegetable Oil', 'Garlic', 'Ginger', 'Soy Sauce', 'Water', 'Brown Sugar', 'Ramen Noodles', '', '', '', '', '', '', '', '', '', '', ''], ['Sweet & Tangy Meatballs', 'Ground Beef', 'Onion', 'Garlic', 'Grape Jelly', 'Chili Sauce', '', '', '', '', '', '', '', '', '', '', '', '', '', '', '', ''], ['Garlic Chicken', 'Chicken Breast', 'Panko', 'Garlic', 'Olive Oil', '', '', '', '', '', '', '', '', '', '', '', '', '', '', '', '', ''], ['Banana Bread', 'Flour', 'Baking Soda', 'Salt', 'Butter', 'Brown Sugar', 'Eggs', 'Bananas', '', '', '', '', '', '', '', '', '', '', '', '', '', ''], ['Garlic Bread Grilled Cheese', 'Prosciutto', 'Basil', 'Garlic', 'Pine Nuts', 'Italian Bread', 'Butter', 'Mozzarella', '', '', '', '', '', '', '', '', '', '', '', '', '', ''], ['Chicken Fajitas', 'Chicken Breast', 'Bell Peppers', 'Cilantro', 'Garlic Powder', 'Lime', 'Onion', 'Paprika', 'Salt', 'Pepper', 'Vegetable Oil', 'Cumin', 'Tortillas', '', '', '', '', '', '', '', '', ''], ['Baked Garlic Green Beans', 'Green Beans', 'Garlic', 'Salt', 'Pepper', 'Olive Oil', '', '', '', '', '', '', '', '', '', '', '', '', '', '', '', ''], ['Chicken Lime Lettuce Wraps', 'Cilantro', 'Garlic', 'Lettuce', 'Lime', 'Green Onions', 'Pepper', 'Salt', 'Sugar', 'Red Wine Vinegar', '', '', '', '', '', '', '', '', '', '', '', ''], ['JD Steak', 'New York Strip Steak', 'Garlic', 'Sweet Onions', 'Dijon Mustard', 'Soy Sauce', 'Brown Sugar', 'Pepper', 'Salt', 'Olive Oil', 'JD Whiskey', '', '', '', '', '', '', '', '', '', '', ''], ['Orange Chicken Tenders', 'Chicken Tenderloin', 'Olive Oil', 'Orange Juice', 'Orange Marmalade', 'Lemon Juice', 'Brown Sugar', 'Hoisin Sauce', 'Red Wine Vinegar', 'Soy Sauce', 'Chili Sauce', 'Salt', 'Garlic Powder', 'Ginger Powder', 'Onion Powder', 'Panko', 'Butter', 'Flour', 'Eggs', 'Milk', 'Cornflakes', 'Pepper'], ['Baked Parmesan Crusted Chicken', 'Chicken Breast', 'Garlic', 'Parsley', 'Lemon Juice', 'Salt', 'Pepper', 'Panko', 'Butter', 'Parmesan', '', '', '', '', '', '', '', '', '', '', '', '']]\n"
     ]
    }
   ],
   "source": [
    "#create recipes list \n",
    "recipes_list = []\n",
    "for item in recipes:\n",
    "    recipes_list.append(item)\n",
    "print(recipes_list)"
   ]
  },
  {
   "cell_type": "code",
   "execution_count": 7,
   "metadata": {},
   "outputs": [
    {
     "name": "stdout",
     "output_type": "stream",
     "text": [
      "['Italian Sauce', 'Mongolian Beef Ramen', 'Sweet & Tangy Meatballs', 'Garlic Chicken', 'Banana Bread', 'Garlic Bread Grilled Cheese', 'Chicken Fajitas', 'Baked Garlic Green Beans', 'Chicken Lime Lettuce Wraps', 'JD Steak', 'Orange Chicken Tenders', 'Baked Parmesan Crusted Chicken']\n"
     ]
    }
   ],
   "source": [
    "#create list of recipe title keys\n",
    "recipe_title_keys = []\n",
    "for item in recipes_list:\n",
    "    recipe_title_keys.append(item[0])\n",
    "print(recipe_title_keys) "
   ]
  },
  {
   "cell_type": "code",
   "execution_count": 8,
   "metadata": {},
   "outputs": [
    {
     "name": "stdout",
     "output_type": "stream",
     "text": [
      "[['Garlic', 'Onion', 'Sweet Italian Sausage', 'Spicy Italian Sausage', 'Tomato Sauce', 'Tomato Paste', 'Diced Tomato', 'Basil ', 'Wine', '', '', '', '', '', '', '', '', '', '', '', ''], ['Flank Steak', 'Cornstarch', 'Sesame Oil', 'Vegetable Oil', 'Garlic', 'Ginger', 'Soy Sauce', 'Water', 'Brown Sugar', 'Ramen Noodles', '', '', '', '', '', '', '', '', '', '', ''], ['Ground Beef', 'Onion', 'Garlic', 'Grape Jelly', 'Chili Sauce', '', '', '', '', '', '', '', '', '', '', '', '', '', '', '', ''], ['Chicken Breast', 'Panko', 'Garlic', 'Olive Oil', '', '', '', '', '', '', '', '', '', '', '', '', '', '', '', '', ''], ['Flour', 'Baking Soda', 'Salt', 'Butter', 'Brown Sugar', 'Eggs', 'Bananas', '', '', '', '', '', '', '', '', '', '', '', '', '', ''], ['Prosciutto', 'Basil', 'Garlic', 'Pine Nuts', 'Italian Bread', 'Butter', 'Mozzarella', '', '', '', '', '', '', '', '', '', '', '', '', '', ''], ['Chicken Breast', 'Bell Peppers', 'Cilantro', 'Garlic Powder', 'Lime', 'Onion', 'Paprika', 'Salt', 'Pepper', 'Vegetable Oil', 'Cumin', 'Tortillas', '', '', '', '', '', '', '', '', ''], ['Green Beans', 'Garlic', 'Salt', 'Pepper', 'Olive Oil', '', '', '', '', '', '', '', '', '', '', '', '', '', '', '', ''], ['Cilantro', 'Garlic', 'Lettuce', 'Lime', 'Green Onions', 'Pepper', 'Salt', 'Sugar', 'Red Wine Vinegar', '', '', '', '', '', '', '', '', '', '', '', ''], ['New York Strip Steak', 'Garlic', 'Sweet Onions', 'Dijon Mustard', 'Soy Sauce', 'Brown Sugar', 'Pepper', 'Salt', 'Olive Oil', 'JD Whiskey', '', '', '', '', '', '', '', '', '', '', ''], ['Chicken Tenderloin', 'Olive Oil', 'Orange Juice', 'Orange Marmalade', 'Lemon Juice', 'Brown Sugar', 'Hoisin Sauce', 'Red Wine Vinegar', 'Soy Sauce', 'Chili Sauce', 'Salt', 'Garlic Powder', 'Ginger Powder', 'Onion Powder', 'Panko', 'Butter', 'Flour', 'Eggs', 'Milk', 'Cornflakes', 'Pepper'], ['Chicken Breast', 'Garlic', 'Parsley', 'Lemon Juice', 'Salt', 'Pepper', 'Panko', 'Butter', 'Parmesan', '', '', '', '', '', '', '', '', '', '', '', '']]\n"
     ]
    }
   ],
   "source": [
    "#create list of recipe ingredient values\n",
    "recipe_ingredient_values = []\n",
    "for item in recipes_list:\n",
    "    recipe_ingredient_values.append(item[1:])\n",
    "print(recipe_ingredient_values)"
   ]
  },
  {
   "cell_type": "code",
   "execution_count": 9,
   "metadata": {},
   "outputs": [
    {
     "name": "stdout",
     "output_type": "stream",
     "text": [
      "[['Garlic', 'Onion', 'Sweet Italian Sausage', 'Spicy Italian Sausage', 'Tomato Sauce', 'Tomato Paste', 'Diced Tomato', 'Basil ', 'Wine'], ['Flank Steak', 'Cornstarch', 'Sesame Oil', 'Vegetable Oil', 'Garlic', 'Ginger', 'Soy Sauce', 'Water', 'Brown Sugar', 'Ramen Noodles'], ['Ground Beef', 'Onion', 'Garlic', 'Grape Jelly', 'Chili Sauce'], ['Chicken Breast', 'Panko', 'Garlic', 'Olive Oil'], ['Flour', 'Baking Soda', 'Salt', 'Butter', 'Brown Sugar', 'Eggs', 'Bananas'], ['Prosciutto', 'Basil', 'Garlic', 'Pine Nuts', 'Italian Bread', 'Butter', 'Mozzarella'], ['Chicken Breast', 'Bell Peppers', 'Cilantro', 'Garlic Powder', 'Lime', 'Onion', 'Paprika', 'Salt', 'Pepper', 'Vegetable Oil', 'Cumin', 'Tortillas'], ['Green Beans', 'Garlic', 'Salt', 'Pepper', 'Olive Oil'], ['Cilantro', 'Garlic', 'Lettuce', 'Lime', 'Green Onions', 'Pepper', 'Salt', 'Sugar', 'Red Wine Vinegar'], ['New York Strip Steak', 'Garlic', 'Sweet Onions', 'Dijon Mustard', 'Soy Sauce', 'Brown Sugar', 'Pepper', 'Salt', 'Olive Oil', 'JD Whiskey'], ['Chicken Tenderloin', 'Olive Oil', 'Orange Juice', 'Orange Marmalade', 'Lemon Juice', 'Brown Sugar', 'Hoisin Sauce', 'Red Wine Vinegar', 'Soy Sauce', 'Chili Sauce', 'Salt', 'Garlic Powder', 'Ginger Powder', 'Onion Powder', 'Panko', 'Butter', 'Flour', 'Eggs', 'Milk', 'Cornflakes', 'Pepper'], ['Chicken Breast', 'Garlic', 'Parsley', 'Lemon Juice', 'Salt', 'Pepper', 'Panko', 'Butter', 'Parmesan']]\n"
     ]
    }
   ],
   "source": [
    "#create filtered recipe ingredient values by removing blank recipe ingredient values \n",
    "filtered_recipe_ingredient_values = []\n",
    "for element in recipe_ingredient_values:\n",
    "    fix = []\n",
    "    for item in element:\n",
    "        if item != '':\n",
    "            fix.append(item)\n",
    "    filtered_recipe_ingredient_values.append(fix)\n",
    "print(filtered_recipe_ingredient_values)"
   ]
  },
  {
   "cell_type": "code",
   "execution_count": 11,
   "metadata": {},
   "outputs": [
    {
     "name": "stdout",
     "output_type": "stream",
     "text": [
      "{'Italian Sauce': ['Garlic', 'Onion', 'Sweet Italian Sausage', 'Spicy Italian Sausage', 'Tomato Sauce', 'Tomato Paste', 'Diced Tomato', 'Basil ', 'Wine'], 'Mongolian Beef Ramen': ['Flank Steak', 'Cornstarch', 'Sesame Oil', 'Vegetable Oil', 'Garlic', 'Ginger', 'Soy Sauce', 'Water', 'Brown Sugar', 'Ramen Noodles'], 'Sweet & Tangy Meatballs': ['Ground Beef', 'Onion', 'Garlic', 'Grape Jelly', 'Chili Sauce'], 'Garlic Chicken': ['Chicken Breast', 'Panko', 'Garlic', 'Olive Oil'], 'Banana Bread': ['Flour', 'Baking Soda', 'Salt', 'Butter', 'Brown Sugar', 'Eggs', 'Bananas'], 'Garlic Bread Grilled Cheese': ['Prosciutto', 'Basil', 'Garlic', 'Pine Nuts', 'Italian Bread', 'Butter', 'Mozzarella'], 'Chicken Fajitas': ['Chicken Breast', 'Bell Peppers', 'Cilantro', 'Garlic Powder', 'Lime', 'Onion', 'Paprika', 'Salt', 'Pepper', 'Vegetable Oil', 'Cumin', 'Tortillas'], 'Baked Garlic Green Beans': ['Green Beans', 'Garlic', 'Salt', 'Pepper', 'Olive Oil'], 'Chicken Lime Lettuce Wraps': ['Cilantro', 'Garlic', 'Lettuce', 'Lime', 'Green Onions', 'Pepper', 'Salt', 'Sugar', 'Red Wine Vinegar'], 'JD Steak': ['New York Strip Steak', 'Garlic', 'Sweet Onions', 'Dijon Mustard', 'Soy Sauce', 'Brown Sugar', 'Pepper', 'Salt', 'Olive Oil', 'JD Whiskey'], 'Orange Chicken Tenders': ['Chicken Tenderloin', 'Olive Oil', 'Orange Juice', 'Orange Marmalade', 'Lemon Juice', 'Brown Sugar', 'Hoisin Sauce', 'Red Wine Vinegar', 'Soy Sauce', 'Chili Sauce', 'Salt', 'Garlic Powder', 'Ginger Powder', 'Onion Powder', 'Panko', 'Butter', 'Flour', 'Eggs', 'Milk', 'Cornflakes', 'Pepper'], 'Baked Parmesan Crusted Chicken': ['Chicken Breast', 'Garlic', 'Parsley', 'Lemon Juice', 'Salt', 'Pepper', 'Panko', 'Butter', 'Parmesan']}\n"
     ]
    }
   ],
   "source": [
    "#create recipes dictionary\n",
    "recipes_dict = dict(zip(recipe_title_keys, filtered_recipe_ingredient_values))\n",
    "print(recipes_dict) "
   ]
  },
  {
   "cell_type": "code",
   "execution_count": 12,
   "metadata": {},
   "outputs": [
    {
     "name": "stdout",
     "output_type": "stream",
     "text": [
      "before remove: ['JD Steak', 'Orange Chicken Tenders', 'Sweet & Tangy Meatballs', 'Chicken Lime Lettuce Wraps', 'Baked Parmesan Crusted Chicken']\n",
      "before remove: ['Italian Sauce', 'Banana Bread', 'Baked Garlic Green Beans', 'Chicken Fajitas', 'JD Steak']\n",
      "after remove: ['JD Steak', 'Orange Chicken Tenders', 'Sweet & Tangy Meatballs', 'Chicken Lime Lettuce Wraps', 'Baked Parmesan Crusted Chicken']\n",
      "after remove: ['Mongolian Beef Ramen', 'Banana Bread', 'Garlic Bread Grilled Cheese', 'Garlic Chicken', 'Italian Sauce']\n"
     ]
    }
   ],
   "source": [
    "#randomly select a week 1 recipe set and a week 2 recipe set from recipes dictionary \n",
    "import random\n",
    "week_1 = random.sample(list(recipes_dict), 5)\n",
    "print('before remove:', week_1)\n",
    "week_2 = random.sample(list(recipes_dict), 5)\n",
    "print('before remove:', week_2)\n",
    "\n",
    "#check that week_1 and week_2 do not contain the same recipes\n",
    "#if week_1 and week_2 do contain the same recipes, randomly select a new unique recipe set for week_2 \n",
    "def remove_duplicate_recipes(w1, w2):\n",
    "    check = True\n",
    "    while check == True:\n",
    "        check = False\n",
    "        for item in w2:\n",
    "            if item in w1:\n",
    "                w2 = random.sample(list(recipes_dict), 5)\n",
    "                check = True\n",
    "    return w2\n",
    "week_2 = remove_duplicate_recipes(week_1, week_2)\n",
    "print('after remove:', week_1)\n",
    "print('after remove:', week_2)"
   ]
  },
  {
   "cell_type": "code",
   "execution_count": 13,
   "metadata": {},
   "outputs": [
    {
     "name": "stdout",
     "output_type": "stream",
     "text": [
      "Week 1\n",
      "JD Steak\n",
      "['New York Strip Steak', 'Garlic', 'Sweet Onions', 'Dijon Mustard', 'Soy Sauce', 'Brown Sugar', 'Pepper', 'Salt', 'Olive Oil', 'JD Whiskey']\n",
      "Orange Chicken Tenders\n",
      "['Chicken Tenderloin', 'Olive Oil', 'Orange Juice', 'Orange Marmalade', 'Lemon Juice', 'Brown Sugar', 'Hoisin Sauce', 'Red Wine Vinegar', 'Soy Sauce', 'Chili Sauce', 'Salt', 'Garlic Powder', 'Ginger Powder', 'Onion Powder', 'Panko', 'Butter', 'Flour', 'Eggs', 'Milk', 'Cornflakes', 'Pepper']\n",
      "Sweet & Tangy Meatballs\n",
      "['Ground Beef', 'Onion', 'Garlic', 'Grape Jelly', 'Chili Sauce']\n",
      "Chicken Lime Lettuce Wraps\n",
      "['Cilantro', 'Garlic', 'Lettuce', 'Lime', 'Green Onions', 'Pepper', 'Salt', 'Sugar', 'Red Wine Vinegar']\n",
      "Baked Parmesan Crusted Chicken\n",
      "['Chicken Breast', 'Garlic', 'Parsley', 'Lemon Juice', 'Salt', 'Pepper', 'Panko', 'Butter', 'Parmesan']\n",
      "Week 2\n",
      "Mongolian Beef Ramen\n",
      "['Flank Steak', 'Cornstarch', 'Sesame Oil', 'Vegetable Oil', 'Garlic', 'Ginger', 'Soy Sauce', 'Water', 'Brown Sugar', 'Ramen Noodles']\n",
      "Banana Bread\n",
      "['Flour', 'Baking Soda', 'Salt', 'Butter', 'Brown Sugar', 'Eggs', 'Bananas']\n",
      "Garlic Bread Grilled Cheese\n",
      "['Prosciutto', 'Basil', 'Garlic', 'Pine Nuts', 'Italian Bread', 'Butter', 'Mozzarella']\n",
      "Garlic Chicken\n",
      "['Chicken Breast', 'Panko', 'Garlic', 'Olive Oil']\n",
      "Italian Sauce\n",
      "['Garlic', 'Onion', 'Sweet Italian Sausage', 'Spicy Italian Sausage', 'Tomato Sauce', 'Tomato Paste', 'Diced Tomato', 'Basil ', 'Wine']\n"
     ]
    }
   ],
   "source": [
    "#obtain week 1 and week 2 recipe title keys + recipe ingredient values\n",
    "#create week 1 and week 2 shopping lists\n",
    "print('Week 1')\n",
    "week_1_shopping_list = []\n",
    "for item in week_1:\n",
    "    title = item\n",
    "    ingredients = recipes_dict.get(title)\n",
    "    week_1_shopping_list.append(ingredients)\n",
    "    print(title)\n",
    "    print(ingredients)  \n",
    "print('Week 2')\n",
    "week_2_shopping_list = []\n",
    "for item in week_2:\n",
    "    title = item\n",
    "    ingredients = recipes_dict.get(title)\n",
    "    week_2_shopping_list.append(ingredients)\n",
    "    print(title)\n",
    "    print(ingredients) "
   ]
  },
  {
   "cell_type": "code",
   "execution_count": 14,
   "metadata": {},
   "outputs": [
    {
     "name": "stdout",
     "output_type": "stream",
     "text": [
      "Shopping List\n",
      "['New York Strip Steak', 'Garlic', 'Sweet Onions', 'Dijon Mustard', 'Soy Sauce', 'Brown Sugar', 'Pepper', 'Salt', 'Olive Oil', 'JD Whiskey', 'Chicken Tenderloin', 'Orange Juice', 'Orange Marmalade', 'Lemon Juice', 'Hoisin Sauce', 'Red Wine Vinegar', 'Chili Sauce', 'Garlic Powder', 'Ginger Powder', 'Onion Powder', 'Panko', 'Butter', 'Flour', 'Eggs', 'Milk', 'Cornflakes', 'Ground Beef', 'Onion', 'Grape Jelly', 'Cilantro', 'Lettuce', 'Lime', 'Green Onions', 'Sugar', 'Chicken Breast', 'Parsley', 'Parmesan', 'Flank Steak', 'Cornstarch', 'Sesame Oil', 'Vegetable Oil', 'Ginger', 'Water', 'Ramen Noodles', 'Baking Soda', 'Bananas', 'Prosciutto', 'Basil', 'Pine Nuts', 'Italian Bread', 'Mozzarella', 'Sweet Italian Sausage', 'Spicy Italian Sausage', 'Tomato Sauce', 'Tomato Paste', 'Diced Tomato', 'Basil ', 'Wine']\n"
     ]
    }
   ],
   "source": [
    "#combine week_1 and week_2 shopping lists into final shopping list\n",
    "#create flattened shopping list by turning final shopping list into a one-dimensional list\n",
    "#create filtered shopping list by removing duplicate ingredients from flattened shopping list \n",
    "final_shopping_list = week_1_shopping_list + week_2_shopping_list\n",
    "#print(final_shopping_list)\n",
    "flattened_shopping_list = []\n",
    "for sublist in final_shopping_list:\n",
    "    for item in sublist:\n",
    "        flattened_shopping_list.append(item)\n",
    "#print(flattened_shopping_list)\n",
    "filtered_shopping_list = []\n",
    "for item in flattened_shopping_list:\n",
    "    if item not in filtered_shopping_list:\n",
    "        filtered_shopping_list.append(item)\n",
    "print('Shopping List')\n",
    "print(filtered_shopping_list)"
   ]
  }
 ],
 "metadata": {
  "anaconda-cloud": {},
  "kernelspec": {
   "display_name": "Python 3",
   "language": "python",
   "name": "python3"
  },
  "language_info": {
   "codemirror_mode": {
    "name": "ipython",
    "version": 3
   },
   "file_extension": ".py",
   "mimetype": "text/x-python",
   "name": "python",
   "nbconvert_exporter": "python",
   "pygments_lexer": "ipython3",
   "version": "3.6.3"
  }
 },
 "nbformat": 4,
 "nbformat_minor": 1
}
