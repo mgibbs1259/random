{
 "cells": [
  {
   "cell_type": "code",
   "execution_count": 55,
   "metadata": {
    "collapsed": false
   },
   "outputs": [
    {
     "name": "stdout",
     "output_type": "stream",
     "text": [
      "[1, 4, 5, 7, 3, 28, 13, 2333, 2999, 10, 4, 7, 10, 6, 9, 10, 8, 505, 16, 19]\n",
      "[1, 3, 4, 4, 5, 6, 7, 7, 8, 9, 10, 10, 10, 13, 16, 19, 28, 505, 2333, 2999]\n"
     ]
    }
   ],
   "source": [
    "#create a list of random numbers \n",
    "random_num = [1, 4, 5, 7, 3, 28, 13, 2333, 2999, 10, 4, 7, 10, 6, 9, 10, 8, 505, 16, 19]\n",
    "print(random_num)\n",
    "\n",
    "#create a function to swap two numbers\n",
    "def swap(x, y):\n",
    "    if x > y:\n",
    "        x, y = y, x\n",
    "    return x, y\n",
    "x = swap(7, 5)\n",
    "# print(x)\n",
    "\n",
    "#bubble sort the list of random numbers\n",
    "check = True\n",
    "while check == True:\n",
    "    check = False\n",
    "    for i in range(0, len(random_num) - 1):\n",
    "        if random_num[i] > random_num[i + 1]:\n",
    "            random_num[i], random_num[i+1] = swap(random_num[i], random_num[i + 1]) \n",
    "            check = True\n",
    "print(random_num)"
   ]
  }
 ],
 "metadata": {
  "anaconda-cloud": {},
  "kernelspec": {
   "display_name": "Python [Root]",
   "language": "python",
   "name": "Python [Root]"
  },
  "language_info": {
   "codemirror_mode": {
    "name": "ipython",
    "version": 3
   },
   "file_extension": ".py",
   "mimetype": "text/x-python",
   "name": "python",
   "nbconvert_exporter": "python",
   "pygments_lexer": "ipython3",
   "version": "3.5.2"
  }
 },
 "nbformat": 4,
 "nbformat_minor": 0
}
